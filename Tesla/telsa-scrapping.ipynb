{
 "cells": [
  {
   "cell_type": "code",
   "execution_count": 7,
   "metadata": {},
   "outputs": [],
   "source": [
    "from bs4 import BeautifulSoup\n",
    "import requests\n",
    "import pandas as pd"
   ]
  },
  {
   "cell_type": "code",
   "execution_count": 8,
   "metadata": {},
   "outputs": [
    {
     "ename": "IndexError",
     "evalue": "list index out of range",
     "output_type": "error",
     "traceback": [
      "\u001b[1;31m---------------------------------------------------------------------------\u001b[0m",
      "\u001b[1;31mIndexError\u001b[0m                                Traceback (most recent call last)",
      "Cell \u001b[1;32mIn[8], line 16\u001b[0m\n\u001b[0;32m     14\u001b[0m news_i\u001b[39m=\u001b[39m{}\n\u001b[0;32m     15\u001b[0m news_i[\u001b[39m'\u001b[39m\u001b[39mmarque\u001b[39m\u001b[39m'\u001b[39m] \u001b[39m=\u001b[39m page\n\u001b[1;32m---> 16\u001b[0m news_i[\u001b[39m'\u001b[39m\u001b[39mvitesse\u001b[39m\u001b[39m'\u001b[39m] \u001b[39m=\u001b[39m donnees[\u001b[39m0\u001b[39;49m]\u001b[39m.\u001b[39mtext\n\u001b[0;32m     17\u001b[0m news_i[\u001b[39m'\u001b[39m\u001b[39mdonnee1\u001b[39m\u001b[39m'\u001b[39m] \u001b[39m=\u001b[39m donnees[\u001b[39m1\u001b[39m]\u001b[39m.\u001b[39mtext\n\u001b[0;32m     18\u001b[0m news_i[\u001b[39m'\u001b[39m\u001b[39mdonnee2\u001b[39m\u001b[39m'\u001b[39m] \u001b[39m=\u001b[39m donnees[\u001b[39m2\u001b[39m]\u001b[39m.\u001b[39mtext\n",
      "\u001b[1;31mIndexError\u001b[0m: list index out of range"
     ]
    }
   ],
   "source": [
    "pages = [\"models\",\"model3\",\"modelx\"]\n",
    "\n",
    "tesla=[]\n",
    "for page in pages:\n",
    "\n",
    "    url = f\"https://www.tesla.com/fr_fr/{page}\"\n",
    "\n",
    "    reponse=requests.get(url)\n",
    "\n",
    "    soup = BeautifulSoup(reponse.text,\"html.parser\")\n",
    "\n",
    "    donnees=soup.find_all(\"div\", {\"class\": \"tcl-badge__primary-copy tds-text--h2\"})\n",
    "\n",
    "    news_i={}\n",
    "    news_i['marque'] = page\n",
    "    news_i['vitesse'] = donnees[0].text\n",
    "    news_i['donnee1'] = donnees[1].text\n",
    "    news_i['donnee2'] = donnees[2].text\n",
    "    news_i['chevaux'] = donnees[3].text\n",
    "    tesla.append(news_i)"
   ]
  },
  {
   "cell_type": "code",
   "execution_count": null,
   "metadata": {},
   "outputs": [],
   "source": [
    "df=pd.DataFrame(tesla, columns=['marque', 'vitesse', 'donnee1', 'donnee2', 'chevaux'])"
   ]
  },
  {
   "cell_type": "code",
   "execution_count": null,
   "metadata": {},
   "outputs": [],
   "source": [
    "df.to_csv('tesla_scrpping', index=False, encoding='utf-8')"
   ]
  },
  {
   "cell_type": "code",
   "execution_count": 10,
   "metadata": {},
   "outputs": [
    {
     "data": {
      "text/html": [
       "<div>\n",
       "<style scoped>\n",
       "    .dataframe tbody tr th:only-of-type {\n",
       "        vertical-align: middle;\n",
       "    }\n",
       "\n",
       "    .dataframe tbody tr th {\n",
       "        vertical-align: top;\n",
       "    }\n",
       "\n",
       "    .dataframe thead th {\n",
       "        text-align: right;\n",
       "    }\n",
       "</style>\n",
       "<table border=\"1\" class=\"dataframe\">\n",
       "  <thead>\n",
       "    <tr style=\"text-align: right;\">\n",
       "      <th></th>\n",
       "      <th>marque</th>\n",
       "      <th>vitesse</th>\n",
       "      <th>donnee1</th>\n",
       "      <th>donnee2</th>\n",
       "      <th>chevaux</th>\n",
       "    </tr>\n",
       "  </thead>\n",
       "  <tbody>\n",
       "    <tr>\n",
       "      <th>0</th>\n",
       "      <td>models</td>\n",
       "      <td>\\n        600 km\\n</td>\n",
       "      <td>\\n        2,1 s\\n</td>\n",
       "      <td>\\n        322 km/h\\n</td>\n",
       "      <td>\\n        1020 ch\\n</td>\n",
       "    </tr>\n",
       "    <tr>\n",
       "      <th>1</th>\n",
       "      <td>model3</td>\n",
       "      <td>\\n        602 km\\n</td>\n",
       "      <td>\\n        AWD\\n</td>\n",
       "      <td>\\n        261 km/h\\n</td>\n",
       "      <td>\\n        AWD\\n</td>\n",
       "    </tr>\n",
       "    <tr>\n",
       "      <th>2</th>\n",
       "      <td>modelx</td>\n",
       "      <td>\\n        543 km\\n</td>\n",
       "      <td>\\n        2,6 s\\n</td>\n",
       "      <td>\\n        9,9 s\\n</td>\n",
       "      <td>\\n        1020 ch\\n</td>\n",
       "    </tr>\n",
       "  </tbody>\n",
       "</table>\n",
       "</div>"
      ],
      "text/plain": [
       "   marque             vitesse                donnee1               donnee2  \\\n",
       "0  models  \\n        600 km\\n      \\n        2,1 s\\n  \\n        322 km/h\\n   \n",
       "1  model3  \\n        602 km\\n  \\n        AWD\\n        \\n        261 km/h\\n   \n",
       "2  modelx  \\n        543 km\\n      \\n        2,6 s\\n     \\n        9,9 s\\n   \n",
       "\n",
       "                 chevaux  \n",
       "0    \\n        1020 ch\\n  \n",
       "1  \\n        AWD\\n        \n",
       "2    \\n        1020 ch\\n  "
      ]
     },
     "execution_count": 10,
     "metadata": {},
     "output_type": "execute_result"
    }
   ],
   "source": [
    "empdata = pd.read_csv('C:\\PythonWork\\Tesla\\\\tesla_scrpping', index_col=False, delimiter = ',')\n",
    "empdata.head()"
   ]
  },
  {
   "cell_type": "code",
   "execution_count": 11,
   "metadata": {},
   "outputs": [
    {
     "name": "stdout",
     "output_type": "stream",
     "text": [
      "Database is created\n"
     ]
    }
   ],
   "source": [
    "import mysql.connector as msql\n",
    "from mysql.connector import Error\n",
    "\n",
    "user = 'root'\n",
    "password = 'example'\n",
    "host = 'localhost'\n",
    "port = '3308'\n",
    "\n",
    "try:\n",
    "    conn = msql.connect(host=host, port=port, user=user,  \n",
    "                        password=password)\n",
    "    if conn.is_connected():\n",
    "        cursor = conn.cursor()\n",
    "        cursor.execute(\"CREATE DATABASE tesla\")\n",
    "        print(\"Database is created\")\n",
    "except Error as e:\n",
    "    print(\"Error while connecting to MySQL\", e)"
   ]
  },
  {
   "cell_type": "code",
   "execution_count": 16,
   "metadata": {},
   "outputs": [
    {
     "name": "stdout",
     "output_type": "stream",
     "text": [
      "You're connected to database:  ('tesla',)\n",
      "Creating table....\n",
      "Table is created....\n",
      "Record inserted\n",
      "Record inserted\n",
      "Record inserted\n"
     ]
    }
   ],
   "source": [
    "import mysql.connector as mysql\n",
    "from mysql.connector import Error\n",
    "\n",
    "user = 'root'\n",
    "password = 'example'\n",
    "host = 'localhost'\n",
    "port = '3308'\n",
    "database = 'tesla'\n",
    "\n",
    "try:\n",
    "    conn = mysql.connect(host=host, port=port, user=user, password=password, database=database)\n",
    "    if conn.is_connected():\n",
    "        cursor = conn.cursor()\n",
    "        cursor.execute(\"select database();\")\n",
    "        record = cursor.fetchone()\n",
    "        print(\"You're connected to database: \", record)\n",
    "        cursor.execute('DROP TABLE IF EXISTS voitures;')\n",
    "        print('Creating table....')\n",
    "# in the below line please pass the create table statement which you want #to create\n",
    "        cursor.execute(\"CREATE TABLE voitures(marque varchar(10),vitesse varchar(20),donnee1 varchar(20), donnee2 varchar(20), chevaux varchar(20));\")\n",
    "        print(\"Table is created....\")\n",
    "        #loop through the data frame\n",
    "        for i,row in empdata.iterrows():\n",
    "            #here %S means string values \n",
    "            sql = \"INSERT INTO voitures VALUES (%s,%s,%s,%s,%s)\"\n",
    "            cursor.execute(sql, tuple(row))\n",
    "            print(\"Record inserted\")\n",
    "            # the connection is not auto committed by default, so we must commit to save our changes\n",
    "            conn.commit()\n",
    "except Error as e:\n",
    "            print(\"Error while connecting to MySQL\", e)"
   ]
  }
 ],
 "metadata": {
  "kernelspec": {
   "display_name": ".venv",
   "language": "python",
   "name": "python3"
  },
  "language_info": {
   "codemirror_mode": {
    "name": "ipython",
    "version": 3
   },
   "file_extension": ".py",
   "mimetype": "text/x-python",
   "name": "python",
   "nbconvert_exporter": "python",
   "pygments_lexer": "ipython3",
   "version": "3.10.9 (tags/v3.10.9:1dd9be6, Dec  6 2022, 20:01:21) [MSC v.1934 64 bit (AMD64)]"
  },
  "orig_nbformat": 4,
  "vscode": {
   "interpreter": {
    "hash": "f394ba83058c5a142df3c7e87c8296842715c2e07fd446e3acfd6cb9b123e2dc"
   }
  }
 },
 "nbformat": 4,
 "nbformat_minor": 2
}
